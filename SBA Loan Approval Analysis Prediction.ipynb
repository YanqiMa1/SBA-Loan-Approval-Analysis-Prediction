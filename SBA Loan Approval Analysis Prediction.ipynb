{
 "cells": [
  {
   "cell_type": "code",
   "execution_count": 1,
   "id": "d2b0caf1-7153-4329-848d-ab6750cd8aa8",
   "metadata": {
    "tags": []
   },
   "outputs": [],
   "source": [
    "import numpy as np \n",
    "import pandas as pd"
   ]
  },
  {
   "cell_type": "code",
   "execution_count": 2,
   "id": "059e866f-8cc8-4808-b90f-9ec4ddad5cdd",
   "metadata": {
    "tags": []
   },
   "outputs": [],
   "source": [
    "import matplotlib.pyplot as plt\n",
    "import seaborn as sns\n",
    "#%matplotlib inline\n",
    "import warnings\n",
    "from collections import Counter"
   ]
  },
  {
   "cell_type": "markdown",
   "id": "ecae9d24-2f15-48dc-8c01-1cd0d769ec42",
   "metadata": {},
   "source": [
    "# import the dataset"
   ]
  },
  {
   "cell_type": "code",
   "execution_count": 3,
   "id": "9b3bb542-78a8-4261-86fb-9e2986c7bf5d",
   "metadata": {
    "tags": []
   },
   "outputs": [],
   "source": [
    "file_path = 'E:/6105 data science/project/data/SBAnational.csv'  #get the file path of dataset\n",
    "SBAloan = pd.read_csv(file_path,low_memory=False) #Read the entire file in one go and try to infer the data type of each column"
   ]
  },
  {
   "cell_type": "markdown",
   "id": "1de75a58-e17a-4875-9f3c-65a1a6a4ed5b",
   "metadata": {
    "tags": []
   },
   "source": [
    "# 1.Data cleaning"
   ]
  },
  {
   "cell_type": "code",
   "execution_count": 4,
   "id": "9dbd434e-06ab-4e98-9661-d371941d569f",
   "metadata": {},
   "outputs": [
    {
     "data": {
      "text/html": [
       "<div>\n",
       "<style scoped>\n",
       "    .dataframe tbody tr th:only-of-type {\n",
       "        vertical-align: middle;\n",
       "    }\n",
       "\n",
       "    .dataframe tbody tr th {\n",
       "        vertical-align: top;\n",
       "    }\n",
       "\n",
       "    .dataframe thead th {\n",
       "        text-align: right;\n",
       "    }\n",
       "</style>\n",
       "<table border=\"1\" class=\"dataframe\">\n",
       "  <thead>\n",
       "    <tr style=\"text-align: right;\">\n",
       "      <th></th>\n",
       "      <th>LoanNr_ChkDgt</th>\n",
       "      <th>Name</th>\n",
       "      <th>City</th>\n",
       "      <th>State</th>\n",
       "      <th>Zip</th>\n",
       "      <th>Bank</th>\n",
       "      <th>BankState</th>\n",
       "      <th>NAICS</th>\n",
       "      <th>ApprovalDate</th>\n",
       "      <th>ApprovalFY</th>\n",
       "      <th>...</th>\n",
       "      <th>RevLineCr</th>\n",
       "      <th>LowDoc</th>\n",
       "      <th>ChgOffDate</th>\n",
       "      <th>DisbursementDate</th>\n",
       "      <th>DisbursementGross</th>\n",
       "      <th>BalanceGross</th>\n",
       "      <th>MIS_Status</th>\n",
       "      <th>ChgOffPrinGr</th>\n",
       "      <th>GrAppv</th>\n",
       "      <th>SBA_Appv</th>\n",
       "    </tr>\n",
       "  </thead>\n",
       "  <tbody>\n",
       "    <tr>\n",
       "      <th>0</th>\n",
       "      <td>1000014003</td>\n",
       "      <td>ABC HOBBYCRAFT</td>\n",
       "      <td>EVANSVILLE</td>\n",
       "      <td>IN</td>\n",
       "      <td>47711</td>\n",
       "      <td>FIFTH THIRD BANK</td>\n",
       "      <td>OH</td>\n",
       "      <td>451120</td>\n",
       "      <td>28-Feb-97</td>\n",
       "      <td>1997</td>\n",
       "      <td>...</td>\n",
       "      <td>N</td>\n",
       "      <td>Y</td>\n",
       "      <td>NaN</td>\n",
       "      <td>28-Feb-99</td>\n",
       "      <td>$60,000.00</td>\n",
       "      <td>$0.00</td>\n",
       "      <td>P I F</td>\n",
       "      <td>$0.00</td>\n",
       "      <td>$60,000.00</td>\n",
       "      <td>$48,000.00</td>\n",
       "    </tr>\n",
       "    <tr>\n",
       "      <th>1</th>\n",
       "      <td>1000024006</td>\n",
       "      <td>LANDMARK BAR &amp; GRILLE (THE)</td>\n",
       "      <td>NEW PARIS</td>\n",
       "      <td>IN</td>\n",
       "      <td>46526</td>\n",
       "      <td>1ST SOURCE BANK</td>\n",
       "      <td>IN</td>\n",
       "      <td>722410</td>\n",
       "      <td>28-Feb-97</td>\n",
       "      <td>1997</td>\n",
       "      <td>...</td>\n",
       "      <td>N</td>\n",
       "      <td>Y</td>\n",
       "      <td>NaN</td>\n",
       "      <td>31-May-97</td>\n",
       "      <td>$40,000.00</td>\n",
       "      <td>$0.00</td>\n",
       "      <td>P I F</td>\n",
       "      <td>$0.00</td>\n",
       "      <td>$40,000.00</td>\n",
       "      <td>$32,000.00</td>\n",
       "    </tr>\n",
       "    <tr>\n",
       "      <th>2</th>\n",
       "      <td>1000034009</td>\n",
       "      <td>WHITLOCK DDS, TODD M.</td>\n",
       "      <td>BLOOMINGTON</td>\n",
       "      <td>IN</td>\n",
       "      <td>47401</td>\n",
       "      <td>GRANT COUNTY STATE BANK</td>\n",
       "      <td>IN</td>\n",
       "      <td>621210</td>\n",
       "      <td>28-Feb-97</td>\n",
       "      <td>1997</td>\n",
       "      <td>...</td>\n",
       "      <td>N</td>\n",
       "      <td>N</td>\n",
       "      <td>NaN</td>\n",
       "      <td>31-Dec-97</td>\n",
       "      <td>$287,000.00</td>\n",
       "      <td>$0.00</td>\n",
       "      <td>P I F</td>\n",
       "      <td>$0.00</td>\n",
       "      <td>$287,000.00</td>\n",
       "      <td>$215,250.00</td>\n",
       "    </tr>\n",
       "    <tr>\n",
       "      <th>3</th>\n",
       "      <td>1000044001</td>\n",
       "      <td>BIG BUCKS PAWN &amp; JEWELRY, LLC</td>\n",
       "      <td>BROKEN ARROW</td>\n",
       "      <td>OK</td>\n",
       "      <td>74012</td>\n",
       "      <td>1ST NATL BK &amp; TR CO OF BROKEN</td>\n",
       "      <td>OK</td>\n",
       "      <td>0</td>\n",
       "      <td>28-Feb-97</td>\n",
       "      <td>1997</td>\n",
       "      <td>...</td>\n",
       "      <td>N</td>\n",
       "      <td>Y</td>\n",
       "      <td>NaN</td>\n",
       "      <td>30-Jun-97</td>\n",
       "      <td>$35,000.00</td>\n",
       "      <td>$0.00</td>\n",
       "      <td>P I F</td>\n",
       "      <td>$0.00</td>\n",
       "      <td>$35,000.00</td>\n",
       "      <td>$28,000.00</td>\n",
       "    </tr>\n",
       "    <tr>\n",
       "      <th>4</th>\n",
       "      <td>1000054004</td>\n",
       "      <td>ANASTASIA CONFECTIONS, INC.</td>\n",
       "      <td>ORLANDO</td>\n",
       "      <td>FL</td>\n",
       "      <td>32801</td>\n",
       "      <td>FLORIDA BUS. DEVEL CORP</td>\n",
       "      <td>FL</td>\n",
       "      <td>0</td>\n",
       "      <td>28-Feb-97</td>\n",
       "      <td>1997</td>\n",
       "      <td>...</td>\n",
       "      <td>N</td>\n",
       "      <td>N</td>\n",
       "      <td>NaN</td>\n",
       "      <td>14-May-97</td>\n",
       "      <td>$229,000.00</td>\n",
       "      <td>$0.00</td>\n",
       "      <td>P I F</td>\n",
       "      <td>$0.00</td>\n",
       "      <td>$229,000.00</td>\n",
       "      <td>$229,000.00</td>\n",
       "    </tr>\n",
       "  </tbody>\n",
       "</table>\n",
       "<p>5 rows × 27 columns</p>\n",
       "</div>"
      ],
      "text/plain": [
       "   LoanNr_ChkDgt                           Name          City State    Zip  \\\n",
       "0     1000014003                 ABC HOBBYCRAFT    EVANSVILLE    IN  47711   \n",
       "1     1000024006    LANDMARK BAR & GRILLE (THE)     NEW PARIS    IN  46526   \n",
       "2     1000034009          WHITLOCK DDS, TODD M.   BLOOMINGTON    IN  47401   \n",
       "3     1000044001  BIG BUCKS PAWN & JEWELRY, LLC  BROKEN ARROW    OK  74012   \n",
       "4     1000054004    ANASTASIA CONFECTIONS, INC.       ORLANDO    FL  32801   \n",
       "\n",
       "                            Bank BankState   NAICS ApprovalDate ApprovalFY  \\\n",
       "0               FIFTH THIRD BANK        OH  451120    28-Feb-97       1997   \n",
       "1                1ST SOURCE BANK        IN  722410    28-Feb-97       1997   \n",
       "2        GRANT COUNTY STATE BANK        IN  621210    28-Feb-97       1997   \n",
       "3  1ST NATL BK & TR CO OF BROKEN        OK       0    28-Feb-97       1997   \n",
       "4        FLORIDA BUS. DEVEL CORP        FL       0    28-Feb-97       1997   \n",
       "\n",
       "   ...  RevLineCr  LowDoc  ChgOffDate  DisbursementDate  DisbursementGross  \\\n",
       "0  ...          N       Y         NaN         28-Feb-99        $60,000.00    \n",
       "1  ...          N       Y         NaN         31-May-97        $40,000.00    \n",
       "2  ...          N       N         NaN         31-Dec-97       $287,000.00    \n",
       "3  ...          N       Y         NaN         30-Jun-97        $35,000.00    \n",
       "4  ...          N       N         NaN         14-May-97       $229,000.00    \n",
       "\n",
       "   BalanceGross  MIS_Status ChgOffPrinGr        GrAppv      SBA_Appv  \n",
       "0        $0.00        P I F       $0.00    $60,000.00    $48,000.00   \n",
       "1        $0.00        P I F       $0.00    $40,000.00    $32,000.00   \n",
       "2        $0.00        P I F       $0.00   $287,000.00   $215,250.00   \n",
       "3        $0.00        P I F       $0.00    $35,000.00    $28,000.00   \n",
       "4        $0.00        P I F       $0.00   $229,000.00   $229,000.00   \n",
       "\n",
       "[5 rows x 27 columns]"
      ]
     },
     "execution_count": 4,
     "metadata": {},
     "output_type": "execute_result"
    }
   ],
   "source": [
    "#read the first samples of the dataset\n",
    "SBAloan.head() "
   ]
  },
  {
   "cell_type": "code",
   "execution_count": 5,
   "id": "0c47b377-ebf9-4607-beaa-d977c00d3e61",
   "metadata": {
    "tags": []
   },
   "outputs": [
    {
     "data": {
      "text/html": [
       "<div>\n",
       "<style scoped>\n",
       "    .dataframe tbody tr th:only-of-type {\n",
       "        vertical-align: middle;\n",
       "    }\n",
       "\n",
       "    .dataframe tbody tr th {\n",
       "        vertical-align: top;\n",
       "    }\n",
       "\n",
       "    .dataframe thead th {\n",
       "        text-align: right;\n",
       "    }\n",
       "</style>\n",
       "<table border=\"1\" class=\"dataframe\">\n",
       "  <thead>\n",
       "    <tr style=\"text-align: right;\">\n",
       "      <th></th>\n",
       "      <th>LoanNr_ChkDgt</th>\n",
       "      <th>Name</th>\n",
       "      <th>City</th>\n",
       "      <th>State</th>\n",
       "      <th>Zip</th>\n",
       "      <th>Bank</th>\n",
       "      <th>BankState</th>\n",
       "      <th>NAICS</th>\n",
       "      <th>ApprovalDate</th>\n",
       "      <th>ApprovalFY</th>\n",
       "      <th>...</th>\n",
       "      <th>RevLineCr</th>\n",
       "      <th>LowDoc</th>\n",
       "      <th>ChgOffDate</th>\n",
       "      <th>DisbursementDate</th>\n",
       "      <th>DisbursementGross</th>\n",
       "      <th>BalanceGross</th>\n",
       "      <th>MIS_Status</th>\n",
       "      <th>ChgOffPrinGr</th>\n",
       "      <th>GrAppv</th>\n",
       "      <th>SBA_Appv</th>\n",
       "    </tr>\n",
       "  </thead>\n",
       "  <tbody>\n",
       "    <tr>\n",
       "      <th>899159</th>\n",
       "      <td>9995573004</td>\n",
       "      <td>FABRIC FARMS</td>\n",
       "      <td>UPPER ARLINGTON</td>\n",
       "      <td>OH</td>\n",
       "      <td>43221</td>\n",
       "      <td>JPMORGAN CHASE BANK NATL ASSOC</td>\n",
       "      <td>IL</td>\n",
       "      <td>451120</td>\n",
       "      <td>27-Feb-97</td>\n",
       "      <td>1997</td>\n",
       "      <td>...</td>\n",
       "      <td>0</td>\n",
       "      <td>N</td>\n",
       "      <td>NaN</td>\n",
       "      <td>30-Sep-97</td>\n",
       "      <td>$70,000.00</td>\n",
       "      <td>$0.00</td>\n",
       "      <td>P I F</td>\n",
       "      <td>$0.00</td>\n",
       "      <td>$70,000.00</td>\n",
       "      <td>$56,000.00</td>\n",
       "    </tr>\n",
       "    <tr>\n",
       "      <th>899160</th>\n",
       "      <td>9995603000</td>\n",
       "      <td>FABRIC FARMS</td>\n",
       "      <td>COLUMBUS</td>\n",
       "      <td>OH</td>\n",
       "      <td>43221</td>\n",
       "      <td>JPMORGAN CHASE BANK NATL ASSOC</td>\n",
       "      <td>IL</td>\n",
       "      <td>451130</td>\n",
       "      <td>27-Feb-97</td>\n",
       "      <td>1997</td>\n",
       "      <td>...</td>\n",
       "      <td>Y</td>\n",
       "      <td>N</td>\n",
       "      <td>NaN</td>\n",
       "      <td>31-Oct-97</td>\n",
       "      <td>$85,000.00</td>\n",
       "      <td>$0.00</td>\n",
       "      <td>P I F</td>\n",
       "      <td>$0.00</td>\n",
       "      <td>$85,000.00</td>\n",
       "      <td>$42,500.00</td>\n",
       "    </tr>\n",
       "    <tr>\n",
       "      <th>899161</th>\n",
       "      <td>9995613003</td>\n",
       "      <td>RADCO MANUFACTURING CO.,INC.</td>\n",
       "      <td>SANTA MARIA</td>\n",
       "      <td>CA</td>\n",
       "      <td>93455</td>\n",
       "      <td>RABOBANK, NATIONAL ASSOCIATION</td>\n",
       "      <td>CA</td>\n",
       "      <td>332321</td>\n",
       "      <td>27-Feb-97</td>\n",
       "      <td>1997</td>\n",
       "      <td>...</td>\n",
       "      <td>N</td>\n",
       "      <td>N</td>\n",
       "      <td>NaN</td>\n",
       "      <td>30-Sep-97</td>\n",
       "      <td>$300,000.00</td>\n",
       "      <td>$0.00</td>\n",
       "      <td>P I F</td>\n",
       "      <td>$0.00</td>\n",
       "      <td>$300,000.00</td>\n",
       "      <td>$225,000.00</td>\n",
       "    </tr>\n",
       "    <tr>\n",
       "      <th>899162</th>\n",
       "      <td>9995973006</td>\n",
       "      <td>MARUTAMA HAWAII, INC.</td>\n",
       "      <td>HONOLULU</td>\n",
       "      <td>HI</td>\n",
       "      <td>96830</td>\n",
       "      <td>BANK OF HAWAII</td>\n",
       "      <td>HI</td>\n",
       "      <td>0</td>\n",
       "      <td>27-Feb-97</td>\n",
       "      <td>1997</td>\n",
       "      <td>...</td>\n",
       "      <td>N</td>\n",
       "      <td>Y</td>\n",
       "      <td>8-Mar-00</td>\n",
       "      <td>31-Mar-97</td>\n",
       "      <td>$75,000.00</td>\n",
       "      <td>$0.00</td>\n",
       "      <td>CHGOFF</td>\n",
       "      <td>$46,383.00</td>\n",
       "      <td>$75,000.00</td>\n",
       "      <td>$60,000.00</td>\n",
       "    </tr>\n",
       "    <tr>\n",
       "      <th>899163</th>\n",
       "      <td>9996003010</td>\n",
       "      <td>PACIFIC TRADEWINDS FAN &amp; LIGHT</td>\n",
       "      <td>KAILUA</td>\n",
       "      <td>HI</td>\n",
       "      <td>96734</td>\n",
       "      <td>CENTRAL PACIFIC BANK</td>\n",
       "      <td>HI</td>\n",
       "      <td>0</td>\n",
       "      <td>27-Feb-97</td>\n",
       "      <td>1997</td>\n",
       "      <td>...</td>\n",
       "      <td>N</td>\n",
       "      <td>N</td>\n",
       "      <td>NaN</td>\n",
       "      <td>31-May-97</td>\n",
       "      <td>$30,000.00</td>\n",
       "      <td>$0.00</td>\n",
       "      <td>P I F</td>\n",
       "      <td>$0.00</td>\n",
       "      <td>$30,000.00</td>\n",
       "      <td>$24,000.00</td>\n",
       "    </tr>\n",
       "  </tbody>\n",
       "</table>\n",
       "<p>5 rows × 27 columns</p>\n",
       "</div>"
      ],
      "text/plain": [
       "        LoanNr_ChkDgt                            Name             City State  \\\n",
       "899159     9995573004                    FABRIC FARMS  UPPER ARLINGTON    OH   \n",
       "899160     9995603000                    FABRIC FARMS         COLUMBUS    OH   \n",
       "899161     9995613003    RADCO MANUFACTURING CO.,INC.      SANTA MARIA    CA   \n",
       "899162     9995973006           MARUTAMA HAWAII, INC.         HONOLULU    HI   \n",
       "899163     9996003010  PACIFIC TRADEWINDS FAN & LIGHT           KAILUA    HI   \n",
       "\n",
       "          Zip                            Bank BankState   NAICS ApprovalDate  \\\n",
       "899159  43221  JPMORGAN CHASE BANK NATL ASSOC        IL  451120    27-Feb-97   \n",
       "899160  43221  JPMORGAN CHASE BANK NATL ASSOC        IL  451130    27-Feb-97   \n",
       "899161  93455  RABOBANK, NATIONAL ASSOCIATION        CA  332321    27-Feb-97   \n",
       "899162  96830                  BANK OF HAWAII        HI       0    27-Feb-97   \n",
       "899163  96734            CENTRAL PACIFIC BANK        HI       0    27-Feb-97   \n",
       "\n",
       "       ApprovalFY  ...  RevLineCr  LowDoc  ChgOffDate  DisbursementDate  \\\n",
       "899159       1997  ...          0       N         NaN         30-Sep-97   \n",
       "899160       1997  ...          Y       N         NaN         31-Oct-97   \n",
       "899161       1997  ...          N       N         NaN         30-Sep-97   \n",
       "899162       1997  ...          N       Y    8-Mar-00         31-Mar-97   \n",
       "899163       1997  ...          N       N         NaN         31-May-97   \n",
       "\n",
       "        DisbursementGross  BalanceGross  MIS_Status ChgOffPrinGr  \\\n",
       "899159        $70,000.00         $0.00        P I F       $0.00    \n",
       "899160        $85,000.00         $0.00        P I F       $0.00    \n",
       "899161       $300,000.00         $0.00        P I F       $0.00    \n",
       "899162        $75,000.00         $0.00       CHGOFF  $46,383.00    \n",
       "899163        $30,000.00         $0.00        P I F       $0.00    \n",
       "\n",
       "              GrAppv      SBA_Appv  \n",
       "899159   $70,000.00    $56,000.00   \n",
       "899160   $85,000.00    $42,500.00   \n",
       "899161  $300,000.00   $225,000.00   \n",
       "899162   $75,000.00    $60,000.00   \n",
       "899163   $30,000.00    $24,000.00   \n",
       "\n",
       "[5 rows x 27 columns]"
      ]
     },
     "execution_count": 5,
     "metadata": {},
     "output_type": "execute_result"
    }
   ],
   "source": [
    "#read the last 5 samples of the dataset\n",
    "SBAloan.tail()"
   ]
  },
  {
   "cell_type": "code",
   "execution_count": 6,
   "id": "a04c0f30-5a65-4489-831c-1875d04b1f95",
   "metadata": {
    "tags": []
   },
   "outputs": [],
   "source": [
    "#Deleting duplicates if any\n",
    "SBAloan = SBAloan.drop_duplicates(keep = 'first')"
   ]
  },
  {
   "cell_type": "code",
   "execution_count": 7,
   "id": "ceaf61dd-bc51-4228-82ab-2a5540eb2ed6",
   "metadata": {
    "tags": []
   },
   "outputs": [
    {
     "data": {
      "text/plain": [
       "(899164, 27)"
      ]
     },
     "execution_count": 7,
     "metadata": {},
     "output_type": "execute_result"
    }
   ],
   "source": [
    "#get the shape of dataset\n",
    "SBAloan.shape"
   ]
  },
  {
   "cell_type": "code",
   "execution_count": 8,
   "id": "c6c984f2-8307-413e-890c-47fd57a070b3",
   "metadata": {
    "tags": []
   },
   "outputs": [
    {
     "name": "stdout",
     "output_type": "stream",
     "text": [
      "Index(['LoanNr_ChkDgt', 'Name', 'City', 'State', 'Zip', 'Bank', 'BankState',\n",
      "       'NAICS', 'ApprovalDate', 'ApprovalFY', 'Term', 'NoEmp', 'NewExist',\n",
      "       'CreateJob', 'RetainedJob', 'FranchiseCode', 'UrbanRural', 'RevLineCr',\n",
      "       'LowDoc', 'ChgOffDate', 'DisbursementDate', 'DisbursementGross',\n",
      "       'BalanceGross', 'MIS_Status', 'ChgOffPrinGr', 'GrAppv', 'SBA_Appv'],\n",
      "      dtype='object')\n"
     ]
    }
   ],
   "source": [
    "#show the List of columns:\n",
    "print(SBAloan.dtypes.index)"
   ]
  },
  {
   "cell_type": "code",
   "execution_count": 9,
   "id": "4a3739c3-99fe-4ba2-8719-d51746c8fc29",
   "metadata": {
    "tags": []
   },
   "outputs": [
    {
     "name": "stdout",
     "output_type": "stream",
     "text": [
      "<class 'pandas.core.frame.DataFrame'>\n",
      "Int64Index: 899164 entries, 0 to 899163\n",
      "Data columns (total 27 columns):\n",
      " #   Column             Non-Null Count   Dtype  \n",
      "---  ------             --------------   -----  \n",
      " 0   LoanNr_ChkDgt      899164 non-null  int64  \n",
      " 1   Name               899150 non-null  object \n",
      " 2   City               899134 non-null  object \n",
      " 3   State              899150 non-null  object \n",
      " 4   Zip                899164 non-null  int64  \n",
      " 5   Bank               897605 non-null  object \n",
      " 6   BankState          897598 non-null  object \n",
      " 7   NAICS              899164 non-null  int64  \n",
      " 8   ApprovalDate       899164 non-null  object \n",
      " 9   ApprovalFY         899164 non-null  object \n",
      " 10  Term               899164 non-null  int64  \n",
      " 11  NoEmp              899164 non-null  int64  \n",
      " 12  NewExist           899028 non-null  float64\n",
      " 13  CreateJob          899164 non-null  int64  \n",
      " 14  RetainedJob        899164 non-null  int64  \n",
      " 15  FranchiseCode      899164 non-null  int64  \n",
      " 16  UrbanRural         899164 non-null  int64  \n",
      " 17  RevLineCr          894636 non-null  object \n",
      " 18  LowDoc             896582 non-null  object \n",
      " 19  ChgOffDate         162699 non-null  object \n",
      " 20  DisbursementDate   896796 non-null  object \n",
      " 21  DisbursementGross  899164 non-null  object \n",
      " 22  BalanceGross       899164 non-null  object \n",
      " 23  MIS_Status         897167 non-null  object \n",
      " 24  ChgOffPrinGr       899164 non-null  object \n",
      " 25  GrAppv             899164 non-null  object \n",
      " 26  SBA_Appv           899164 non-null  object \n",
      "dtypes: float64(1), int64(9), object(17)\n",
      "memory usage: 192.1+ MB\n"
     ]
    }
   ],
   "source": [
    "#get the detail info of dataset\n",
    "SBAloan.info()"
   ]
  },
  {
   "cell_type": "code",
   "execution_count": 10,
   "id": "87dcc0ef-faa9-4fd2-9fb4-542597a93c61",
   "metadata": {
    "tags": []
   },
   "outputs": [],
   "source": [
    "# 'DisbursementGross', 'BalanceGross', 'ChgOffPrinGr', 'GrAppv', 'SBA_Appv' are coming in as strings with the '$' sign, first remove \"$\" and \",\"\n",
    "SBAloan[['DisbursementGross', 'BalanceGross', 'ChgOffPrinGr', 'GrAppv', 'SBA_Appv']] = \\\n",
    "SBAloan[['DisbursementGross', 'BalanceGross', 'ChgOffPrinGr', 'GrAppv', 'SBA_Appv']].applymap(lambda x : x.strip().replace('$','').replace(',',''))"
   ]
  },
  {
   "cell_type": "code",
   "execution_count": 11,
   "id": "c2d86d77-9182-4a71-9e7e-c2caeb7f3e2a",
   "metadata": {
    "tags": []
   },
   "outputs": [],
   "source": [
    "#the features 'LoanNr_ChkDgt', 'Zip', 'NAICS','NewExist', 'FranchiseCode', 'UrbanRural' should be Text, they are not numeric columns\n",
    "#'DisbursementGross', 'BalanceGross', 'ChgOffPrinGr', 'GrAppv', 'SBA_Appv' should be float type\n",
    "# 'ApprovalDate', 'ChgOffDate','DisbursementDate' should be Time type\n",
    "# change the type of these columns as appropriate\n",
    "SBAloan = SBAloan.astype({'LoanNr_ChkDgt' : 'str', 'Zip' : 'str', 'NAICS': 'str', 'NewExist' : 'str','FranchiseCode' : 'str', 'UrbanRural' : 'str'})\n",
    "SBAloan = SBAloan.astype({'DisbursementGross' : 'float', 'BalanceGross' : 'float', 'ChgOffPrinGr' : 'float', 'GrAppv': 'float', 'SBA_Appv': 'float'})\n",
    "SBAloan[['ApprovalDate', 'ChgOffDate','DisbursementDate']] = SBAloan[['ApprovalDate', 'ChgOffDate','DisbursementDate']].apply(pd.to_datetime)"
   ]
  },
  {
   "cell_type": "raw",
   "id": "3d03c20d-0abd-4666-9ac9-5eef70c2b263",
   "metadata": {},
   "source": [
    "NAICS (North American Industry Classification System):This is a 2- through 6-digit hierarchical classification system used by Federal statistical agencies in classifying business establishments for the collection, analysis, and presentation of statistical data describing the U.S. economy. The first two digits of the NAICS classification represent the economic sector.\n",
    "This is a table shows the 2-digit sectors and a corresponding description for each sector:\n",
    "\n",
    "Sector:Description\n",
    "11 Agriculture, forestry, fishing and hunting\n",
    "21 Mining, quarrying, and oil and gas extraction\n",
    "22 Utilities\n",
    "23 Construction\n",
    "31–33 Manufacturing\n",
    "42 Wholesale trade\n",
    "44–45 Retail trade\n",
    "48–49 Transportation and warehousing\n",
    "51 Information\n",
    "52 Finance and insurance\n",
    "53 Real estate and rental and leasing\n",
    "54 Professional, scientific, and technical services\n",
    "55 Management of companies and enterprises\n",
    "56 Administrative and support and waste management and\n",
    "remediation services\n",
    "61 Educational services\n",
    "62 Health care and social assistance\n",
    "71 Arts, entertainment, and recreation\n",
    "72 Accommodation and food services\n",
    "81 Other services (except public administration)\n",
    "92 Public administration\n",
    "\n",
    "sorce:https://www.census.gov/programs-surveys/economic-census/year/2022/guidance/understanding-naics.html"
   ]
  },
  {
   "cell_type": "code",
   "execution_count": 12,
   "id": "d3597483-1120-4d25-9505-9eb647704ddf",
   "metadata": {
    "tags": []
   },
   "outputs": [],
   "source": [
    "# Based on the understanding of the feature 'NAICS', we create a new column 'Industry' to show the general industry for this analysis\n",
    "SBAloan['Industry'] = SBAloan['NAICS'].apply(lambda x : x[:2]) # create 'Industry' by the first 2 digits of NAICS\n",
    "SBAloan['Industry'] = SBAloan['Industry'].map({\n",
    "    '11': 'Ag/For/Fish/Hunt',\n",
    "    '21': 'Min/Quar/Oil_Gas_ext',\n",
    "    '22': 'Utilities',\n",
    "    '23': 'Construction',\n",
    "    '31': 'Manufacturing',\n",
    "    '32': 'Manufacturing',\n",
    "    '33': 'Manufacturing',\n",
    "    '42': 'Wholesale_trade',\n",
    "    '44': 'Retail_trade',\n",
    "    '45': 'Retail_trade',\n",
    "    '48': 'Trans/Ware',\n",
    "    '49': 'Trans/Ware',\n",
    "    '51': 'Information',\n",
    "    '52': 'Finance/Insurance',\n",
    "    '53': 'RE/Rental/Lease',\n",
    "    '54': 'Prof/Science/Tech',\n",
    "    '55': 'Mgmt_comp',\n",
    "    '56': 'Admin_sup/Waste_Mgmt_Rem',\n",
    "    '61': 'Educational',\n",
    "    '62': 'Healthcare/Social_assist',\n",
    "    '71': 'Arts/Entertain/Rec',\n",
    "    '72': 'Accom/Food_serv',\n",
    "    '81': 'Other_no_pub',\n",
    "    '92': 'Public_Admin'\n",
    "})                                                                   # use the reference to map the industry to the code\n"
   ]
  },
  {
   "cell_type": "code",
   "execution_count": 13,
   "id": "28e10e87-ca60-44b6-9655-4332411577e7",
   "metadata": {
    "tags": []
   },
   "outputs": [],
   "source": [
    "# if the first 2 digit of NAICS is 00, the Industry will not in this table, we asign this samples as 'others', so fill 'others' in the NAs\n",
    "SBAloan['Industry'].fillna('others', inplace = True)"
   ]
  },
  {
   "cell_type": "code",
   "execution_count": 14,
   "id": "479ec411-ad55-4f46-95a2-db108d43475a",
   "metadata": {
    "tags": []
   },
   "outputs": [
    {
     "data": {
      "text/html": [
       "<div>\n",
       "<style scoped>\n",
       "    .dataframe tbody tr th:only-of-type {\n",
       "        vertical-align: middle;\n",
       "    }\n",
       "\n",
       "    .dataframe tbody tr th {\n",
       "        vertical-align: top;\n",
       "    }\n",
       "\n",
       "    .dataframe thead th {\n",
       "        text-align: right;\n",
       "    }\n",
       "</style>\n",
       "<table border=\"1\" class=\"dataframe\">\n",
       "  <thead>\n",
       "    <tr style=\"text-align: right;\">\n",
       "      <th></th>\n",
       "      <th>Term</th>\n",
       "      <th>NoEmp</th>\n",
       "      <th>CreateJob</th>\n",
       "      <th>RetainedJob</th>\n",
       "      <th>DisbursementGross</th>\n",
       "      <th>BalanceGross</th>\n",
       "      <th>ChgOffPrinGr</th>\n",
       "      <th>GrAppv</th>\n",
       "      <th>SBA_Appv</th>\n",
       "    </tr>\n",
       "  </thead>\n",
       "  <tbody>\n",
       "    <tr>\n",
       "      <th>count</th>\n",
       "      <td>899164.000000</td>\n",
       "      <td>899164.000000</td>\n",
       "      <td>899164.000000</td>\n",
       "      <td>899164.000000</td>\n",
       "      <td>8.991640e+05</td>\n",
       "      <td>899164.000000</td>\n",
       "      <td>8.991640e+05</td>\n",
       "      <td>8.991640e+05</td>\n",
       "      <td>8.991640e+05</td>\n",
       "    </tr>\n",
       "    <tr>\n",
       "      <th>mean</th>\n",
       "      <td>110.773078</td>\n",
       "      <td>11.411353</td>\n",
       "      <td>8.430376</td>\n",
       "      <td>10.797257</td>\n",
       "      <td>2.011540e+05</td>\n",
       "      <td>2.989349</td>\n",
       "      <td>1.350330e+04</td>\n",
       "      <td>1.926870e+05</td>\n",
       "      <td>1.494888e+05</td>\n",
       "    </tr>\n",
       "    <tr>\n",
       "      <th>std</th>\n",
       "      <td>78.857305</td>\n",
       "      <td>74.108196</td>\n",
       "      <td>236.688165</td>\n",
       "      <td>237.120600</td>\n",
       "      <td>2.876408e+05</td>\n",
       "      <td>1442.161912</td>\n",
       "      <td>6.515229e+04</td>\n",
       "      <td>2.832634e+05</td>\n",
       "      <td>2.284146e+05</td>\n",
       "    </tr>\n",
       "    <tr>\n",
       "      <th>min</th>\n",
       "      <td>0.000000</td>\n",
       "      <td>0.000000</td>\n",
       "      <td>0.000000</td>\n",
       "      <td>0.000000</td>\n",
       "      <td>0.000000e+00</td>\n",
       "      <td>0.000000</td>\n",
       "      <td>0.000000e+00</td>\n",
       "      <td>2.000000e+02</td>\n",
       "      <td>1.000000e+02</td>\n",
       "    </tr>\n",
       "    <tr>\n",
       "      <th>25%</th>\n",
       "      <td>60.000000</td>\n",
       "      <td>2.000000</td>\n",
       "      <td>0.000000</td>\n",
       "      <td>0.000000</td>\n",
       "      <td>4.200000e+04</td>\n",
       "      <td>0.000000</td>\n",
       "      <td>0.000000e+00</td>\n",
       "      <td>3.500000e+04</td>\n",
       "      <td>2.125000e+04</td>\n",
       "    </tr>\n",
       "    <tr>\n",
       "      <th>50%</th>\n",
       "      <td>84.000000</td>\n",
       "      <td>4.000000</td>\n",
       "      <td>0.000000</td>\n",
       "      <td>1.000000</td>\n",
       "      <td>1.000000e+05</td>\n",
       "      <td>0.000000</td>\n",
       "      <td>0.000000e+00</td>\n",
       "      <td>9.000000e+04</td>\n",
       "      <td>6.125000e+04</td>\n",
       "    </tr>\n",
       "    <tr>\n",
       "      <th>75%</th>\n",
       "      <td>120.000000</td>\n",
       "      <td>10.000000</td>\n",
       "      <td>1.000000</td>\n",
       "      <td>4.000000</td>\n",
       "      <td>2.380000e+05</td>\n",
       "      <td>0.000000</td>\n",
       "      <td>0.000000e+00</td>\n",
       "      <td>2.250000e+05</td>\n",
       "      <td>1.750000e+05</td>\n",
       "    </tr>\n",
       "    <tr>\n",
       "      <th>max</th>\n",
       "      <td>569.000000</td>\n",
       "      <td>9999.000000</td>\n",
       "      <td>8800.000000</td>\n",
       "      <td>9500.000000</td>\n",
       "      <td>1.144632e+07</td>\n",
       "      <td>996262.000000</td>\n",
       "      <td>3.512596e+06</td>\n",
       "      <td>5.472000e+06</td>\n",
       "      <td>5.472000e+06</td>\n",
       "    </tr>\n",
       "  </tbody>\n",
       "</table>\n",
       "</div>"
      ],
      "text/plain": [
       "                Term          NoEmp      CreateJob    RetainedJob  \\\n",
       "count  899164.000000  899164.000000  899164.000000  899164.000000   \n",
       "mean      110.773078      11.411353       8.430376      10.797257   \n",
       "std        78.857305      74.108196     236.688165     237.120600   \n",
       "min         0.000000       0.000000       0.000000       0.000000   \n",
       "25%        60.000000       2.000000       0.000000       0.000000   \n",
       "50%        84.000000       4.000000       0.000000       1.000000   \n",
       "75%       120.000000      10.000000       1.000000       4.000000   \n",
       "max       569.000000    9999.000000    8800.000000    9500.000000   \n",
       "\n",
       "       DisbursementGross   BalanceGross  ChgOffPrinGr        GrAppv  \\\n",
       "count       8.991640e+05  899164.000000  8.991640e+05  8.991640e+05   \n",
       "mean        2.011540e+05       2.989349  1.350330e+04  1.926870e+05   \n",
       "std         2.876408e+05    1442.161912  6.515229e+04  2.832634e+05   \n",
       "min         0.000000e+00       0.000000  0.000000e+00  2.000000e+02   \n",
       "25%         4.200000e+04       0.000000  0.000000e+00  3.500000e+04   \n",
       "50%         1.000000e+05       0.000000  0.000000e+00  9.000000e+04   \n",
       "75%         2.380000e+05       0.000000  0.000000e+00  2.250000e+05   \n",
       "max         1.144632e+07  996262.000000  3.512596e+06  5.472000e+06   \n",
       "\n",
       "           SBA_Appv  \n",
       "count  8.991640e+05  \n",
       "mean   1.494888e+05  \n",
       "std    2.284146e+05  \n",
       "min    1.000000e+02  \n",
       "25%    2.125000e+04  \n",
       "50%    6.125000e+04  \n",
       "75%    1.750000e+05  \n",
       "max    5.472000e+06  "
      ]
     },
     "execution_count": 14,
     "metadata": {},
     "output_type": "execute_result"
    }
   ],
   "source": [
    "#Generate descriptive statistics for numeric columns in a Dataset\n",
    "SBAloan.describe()"
   ]
  },
  {
   "cell_type": "code",
   "execution_count": 15,
   "id": "5043c8a1-32ee-4a84-af92-f999bc50358b",
   "metadata": {
    "tags": []
   },
   "outputs": [
    {
     "name": "stdout",
     "output_type": "stream",
     "text": [
      "<class 'pandas.core.frame.DataFrame'>\n",
      "Int64Index: 899164 entries, 0 to 899163\n",
      "Data columns (total 28 columns):\n",
      " #   Column             Non-Null Count   Dtype         \n",
      "---  ------             --------------   -----         \n",
      " 0   LoanNr_ChkDgt      899164 non-null  object        \n",
      " 1   Name               899150 non-null  object        \n",
      " 2   City               899134 non-null  object        \n",
      " 3   State              899150 non-null  object        \n",
      " 4   Zip                899164 non-null  object        \n",
      " 5   Bank               897605 non-null  object        \n",
      " 6   BankState          897598 non-null  object        \n",
      " 7   NAICS              899164 non-null  object        \n",
      " 8   ApprovalDate       899164 non-null  datetime64[ns]\n",
      " 9   ApprovalFY         899164 non-null  object        \n",
      " 10  Term               899164 non-null  int64         \n",
      " 11  NoEmp              899164 non-null  int64         \n",
      " 12  NewExist           899164 non-null  object        \n",
      " 13  CreateJob          899164 non-null  int64         \n",
      " 14  RetainedJob        899164 non-null  int64         \n",
      " 15  FranchiseCode      899164 non-null  object        \n",
      " 16  UrbanRural         899164 non-null  object        \n",
      " 17  RevLineCr          894636 non-null  object        \n",
      " 18  LowDoc             896582 non-null  object        \n",
      " 19  ChgOffDate         162699 non-null  datetime64[ns]\n",
      " 20  DisbursementDate   896796 non-null  datetime64[ns]\n",
      " 21  DisbursementGross  899164 non-null  float64       \n",
      " 22  BalanceGross       899164 non-null  float64       \n",
      " 23  MIS_Status         897167 non-null  object        \n",
      " 24  ChgOffPrinGr       899164 non-null  float64       \n",
      " 25  GrAppv             899164 non-null  float64       \n",
      " 26  SBA_Appv           899164 non-null  float64       \n",
      " 27  Industry           899164 non-null  object        \n",
      "dtypes: datetime64[ns](3), float64(5), int64(4), object(16)\n",
      "memory usage: 198.9+ MB\n"
     ]
    }
   ],
   "source": [
    "#get the detail info of the dataset again\n",
    "SBAloan.info()"
   ]
  },
  {
   "cell_type": "code",
   "execution_count": 16,
   "id": "131a7ff9-a8e3-4c94-b91e-16e5de2e8870",
   "metadata": {
    "tags": []
   },
   "outputs": [
    {
     "data": {
      "text/plain": [
       "LoanNr_ChkDgt             0\n",
       "Name                     14\n",
       "City                     30\n",
       "State                    14\n",
       "Zip                       0\n",
       "Bank                   1559\n",
       "BankState              1566\n",
       "NAICS                     0\n",
       "ApprovalDate              0\n",
       "ApprovalFY                0\n",
       "Term                      0\n",
       "NoEmp                     0\n",
       "NewExist                  0\n",
       "CreateJob                 0\n",
       "RetainedJob               0\n",
       "FranchiseCode             0\n",
       "UrbanRural                0\n",
       "RevLineCr              4528\n",
       "LowDoc                 2582\n",
       "ChgOffDate           736465\n",
       "DisbursementDate       2368\n",
       "DisbursementGross         0\n",
       "BalanceGross              0\n",
       "MIS_Status             1997\n",
       "ChgOffPrinGr              0\n",
       "GrAppv                    0\n",
       "SBA_Appv                  0\n",
       "Industry                  0\n",
       "dtype: int64"
      ]
     },
     "execution_count": 16,
     "metadata": {},
     "output_type": "execute_result"
    }
   ],
   "source": [
    "#Display number of missing values per column\n",
    "SBAloan.isnull().sum()"
   ]
  },
  {
   "cell_type": "markdown",
   "id": "86e798a6-db77-4939-af1f-86cf7fec2af4",
   "metadata": {
    "tags": []
   },
   "source": [
    "## (1)Dealing with NAs\n"
   ]
  },
  {
   "cell_type": "code",
   "execution_count": 17,
   "id": "bf223a8d-f531-43c3-98c0-fc6d7254dedb",
   "metadata": {
    "tags": []
   },
   "outputs": [],
   "source": [
    "# Dealing with NAs in Name column\n",
    "# Name is unique and we assume it will not be imputed. We can use LoanNr_ChkDgt to identify each samples, so we drop [Name] column\n",
    "SBAloan = SBAloan.drop(axis = 1, columns = ['Name'])"
   ]
  },
  {
   "cell_type": "code",
   "execution_count": 18,
   "id": "1d620c96-c4a7-4d98-8acc-4ab64043ef32",
   "metadata": {
    "tags": []
   },
   "outputs": [
    {
     "name": "stderr",
     "output_type": "stream",
     "text": [
      "D:\\Anaconda\\Lib\\site-packages\\fuzzywuzzy\\fuzz.py:11: UserWarning: Using slow pure-python SequenceMatcher. Install python-Levenshtein to remove this warning\n",
      "  warnings.warn('Using slow pure-python SequenceMatcher. Install python-Levenshtein to remove this warning')\n"
     ]
    },
    {
     "name": "stdout",
     "output_type": "stream",
     "text": [
      "3\n"
     ]
    }
   ],
   "source": [
    "# Dealing with NAs in City and State column\n",
    "# Zip contains information about State and City and there is no NAs in Zip. So we use Zip to impute City and State.\n",
    "\n",
    "import uszipcode\n",
    "from uszipcode import SearchEngine\n",
    "search = SearchEngine()\n",
    "\n",
    "condition = (SBAloan.City.isnull()|SBAloan.State.isnull()) # Created a condition cond, which means that it is True when any of the city (City) or state (State) information is missing\n",
    "\n",
    "missing_rows = SBAloan[condition].index  # missing_rows contains the index of all matching rows, that is, the index of all rows with missing city or state information\n",
    "\n",
    "#Iterate through the indexes of these missing rows through a loop:\n",
    "count = 0\n",
    "for i in missing_rows:\n",
    "    zipcode = search.by_zipcode(SBAloan.iloc[i,3])  # Zip\n",
    "    if zipcode is not None:\n",
    "        SBAloan.iloc[i,1] = zipcode.major_city          # City\n",
    "        SBAloan.iloc[i,2] = zipcode.state               # State\n",
    "    else:\n",
    "        count += 1\n",
    "        \n",
    "print(count)"
   ]
  },
  {
   "cell_type": "code",
   "execution_count": 19,
   "id": "378d053a-c5a0-4e05-8195-8f8876018555",
   "metadata": {
    "tags": []
   },
   "outputs": [
    {
     "data": {
      "text/plain": [
       "LoanNr_ChkDgt             0\n",
       "City                      2\n",
       "State                     1\n",
       "Zip                       0\n",
       "Bank                   1559\n",
       "BankState              1566\n",
       "NAICS                     0\n",
       "ApprovalDate              0\n",
       "ApprovalFY                0\n",
       "Term                      0\n",
       "NoEmp                     0\n",
       "NewExist                  0\n",
       "CreateJob                 0\n",
       "RetainedJob               0\n",
       "FranchiseCode             0\n",
       "UrbanRural                0\n",
       "RevLineCr              4528\n",
       "LowDoc                 2582\n",
       "ChgOffDate           736465\n",
       "DisbursementDate       2368\n",
       "DisbursementGross         0\n",
       "BalanceGross              0\n",
       "MIS_Status             1997\n",
       "ChgOffPrinGr              0\n",
       "GrAppv                    0\n",
       "SBA_Appv                  0\n",
       "Industry                  0\n",
       "dtype: int64"
      ]
     },
     "execution_count": 19,
     "metadata": {},
     "output_type": "execute_result"
    }
   ],
   "source": [
    "# check NAs\n",
    "SBAloan.isnull().sum()"
   ]
  },
  {
   "cell_type": "code",
   "execution_count": 20,
   "id": "fbba5c3e-2736-4964-995f-aca158d77d45",
   "metadata": {
    "tags": []
   },
   "outputs": [
    {
     "data": {
      "text/plain": [
       "LoanNr_ChkDgt             0\n",
       "City                      0\n",
       "State                     0\n",
       "Zip                       0\n",
       "Bank                   1558\n",
       "BankState              1565\n",
       "NAICS                     0\n",
       "ApprovalDate              0\n",
       "ApprovalFY                0\n",
       "Term                      0\n",
       "NoEmp                     0\n",
       "NewExist                  0\n",
       "CreateJob                 0\n",
       "RetainedJob               0\n",
       "FranchiseCode             0\n",
       "UrbanRural                0\n",
       "RevLineCr              4528\n",
       "LowDoc                 2582\n",
       "ChgOffDate           736463\n",
       "DisbursementDate       2368\n",
       "DisbursementGross         0\n",
       "BalanceGross              0\n",
       "MIS_Status             1997\n",
       "ChgOffPrinGr              0\n",
       "GrAppv                    0\n",
       "SBA_Appv                  0\n",
       "Industry                  0\n",
       "dtype: int64"
      ]
     },
     "execution_count": 20,
     "metadata": {},
     "output_type": "execute_result"
    }
   ],
   "source": [
    "# use count we can know that there are 3 zipcode not in the search.by_zipcode function, here is 1 NA in City and 2 NAs in State, we can ignore them\n",
    "SBAloan.dropna(subset=['City'],inplace=True)\n",
    "SBAloan.dropna(subset=['State'],inplace=True)\n",
    "SBAloan.isnull().sum()"
   ]
  },
  {
   "cell_type": "code",
   "execution_count": null,
   "id": "caca5a30-9679-41af-b098-746da1b9f3dc",
   "metadata": {},
   "outputs": [],
   "source": []
  },
  {
   "cell_type": "code",
   "execution_count": 21,
   "id": "91ed045a-1e49-4880-b586-e5057ad26029",
   "metadata": {
    "tags": []
   },
   "outputs": [
    {
     "name": "stdout",
     "output_type": "stream",
     "text": [
      "473949 425212\n"
     ]
    }
   ],
   "source": [
    "# Dealing with NAs in Bank, BankState column\n",
    "equal = 0\n",
    "non_equal = 0\n",
    "for i in SBAloan.index:\n",
    "    if SBAloan.State[i] == SBAloan.BankState[i]:\n",
    "        equal = equal + 1\n",
    "    else:\n",
    "        non_equal = non_equal +1\n",
    "print(equal, non_equal)\n",
    "\n",
    "# We found that nearly half of the BankState are similar to State, and BankState is not considered to be the main influencing factor. We focus on the location of the borrower to study the impact of location. Also, the Bank name is not the main factor, so the missing values of these two features are deleted\n",
    "SBAloan = SBAloan.drop(axis = 1, columns = ['Bank'])\n",
    "SBAloan = SBAloan.drop(axis = 1, columns = ['BankState'])\n",
    "\n",
    "#SBAloan.dropna(subset=['Bank'],inplace=True)\n",
    "#SBAloan.dropna(subset=['BankState'],inplace=True)"
   ]
  },
  {
   "cell_type": "code",
   "execution_count": 22,
   "id": "049d4ac6-b57a-4212-a603-b882c88e6ee4",
   "metadata": {
    "tags": []
   },
   "outputs": [
    {
     "data": {
      "text/plain": [
       "LoanNr_ChkDgt             0\n",
       "City                      0\n",
       "State                     0\n",
       "Zip                       0\n",
       "NAICS                     0\n",
       "ApprovalDate              0\n",
       "ApprovalFY                0\n",
       "Term                      0\n",
       "NoEmp                     0\n",
       "NewExist                  0\n",
       "CreateJob                 0\n",
       "RetainedJob               0\n",
       "FranchiseCode             0\n",
       "UrbanRural                0\n",
       "RevLineCr              4528\n",
       "LowDoc                 2582\n",
       "ChgOffDate           736463\n",
       "DisbursementDate       2368\n",
       "DisbursementGross         0\n",
       "BalanceGross              0\n",
       "MIS_Status             1997\n",
       "ChgOffPrinGr              0\n",
       "GrAppv                    0\n",
       "SBA_Appv                  0\n",
       "Industry                  0\n",
       "dtype: int64"
      ]
     },
     "execution_count": 22,
     "metadata": {},
     "output_type": "execute_result"
    }
   ],
   "source": [
    "SBAloan.isnull().sum()"
   ]
  },
  {
   "cell_type": "code",
   "execution_count": 24,
   "id": "e008bca6-7752-4219-997a-42e40fa4941c",
   "metadata": {
    "tags": []
   },
   "outputs": [
    {
     "data": {
      "text/plain": [
       "dict_keys(['P I F', 'CHGOFF', nan])"
      ]
     },
     "execution_count": 24,
     "metadata": {},
     "output_type": "execute_result"
    }
   ],
   "source": [
    "# Dealing with NAs in 'MIS_Status' and 'ChgOffDate'\n",
    "Counter(SBAloan['MIS_Status']).keys()"
   ]
  },
  {
   "cell_type": "code",
   "execution_count": 25,
   "id": "784b284a-2b2a-4269-8dd2-63c5858f10e9",
   "metadata": {
    "tags": []
   },
   "outputs": [
    {
     "data": {
      "text/plain": [
       "dict_values([739607, 157557, 1997])"
      ]
     },
     "execution_count": 25,
     "metadata": {},
     "output_type": "execute_result"
    }
   ],
   "source": [
    "Counter(SBAloan['MIS_Status']).values()"
   ]
  },
  {
   "cell_type": "code",
   "execution_count": 26,
   "id": "df661b47-d642-4a13-9b6f-c0992f25e5aa",
   "metadata": {
    "tags": []
   },
   "outputs": [
    {
     "data": {
      "text/plain": [
       "LoanNr_ChkDgt           0\n",
       "City                    0\n",
       "State                   0\n",
       "Zip                     0\n",
       "NAICS                   0\n",
       "ApprovalDate            0\n",
       "ApprovalFY              0\n",
       "Term                    0\n",
       "NoEmp                   0\n",
       "NewExist                0\n",
       "CreateJob               0\n",
       "RetainedJob             0\n",
       "FranchiseCode           0\n",
       "UrbanRural              0\n",
       "RevLineCr            4520\n",
       "LowDoc               2578\n",
       "DisbursementDate     2175\n",
       "DisbursementGross       0\n",
       "BalanceGross            0\n",
       "MIS_Status              0\n",
       "ChgOffPrinGr            0\n",
       "GrAppv                  0\n",
       "SBA_Appv                0\n",
       "Industry                0\n",
       "dtype: int64"
      ]
     },
     "execution_count": 26,
     "metadata": {},
     "output_type": "execute_result"
    }
   ],
   "source": [
    "# the number of paid cases is 738167 , very close to the number of NAs in ChgOffDate which is 735028. We assume that when a case is paid, that can not be recoginzed as charged off, so the value of ChgOffDate is Null.\n",
    "# Based on that, we delete this column\n",
    "SBAloan = SBAloan.drop(axis = 1, columns = ['ChgOffDate'])\n",
    "\n",
    "# drop rows where the value of MIS_Status is NA. Because it's the main factor we want to analysis\n",
    "SBAloan.dropna(subset=['MIS_Status'],inplace=True)\n",
    "SBAloan.isnull().sum()"
   ]
  },
  {
   "cell_type": "code",
   "execution_count": 27,
   "id": "cd3e6212-108c-40eb-aab2-ce1fd73d8a05",
   "metadata": {
    "tags": []
   },
   "outputs": [
    {
     "data": {
      "text/plain": [
       "LoanNr_ChkDgt           0\n",
       "City                    0\n",
       "State                   0\n",
       "Zip                     0\n",
       "NAICS                   0\n",
       "ApprovalDate            0\n",
       "ApprovalFY              0\n",
       "Term                    0\n",
       "NoEmp                   0\n",
       "NewExist                0\n",
       "CreateJob               0\n",
       "RetainedJob             0\n",
       "FranchiseCode           0\n",
       "UrbanRural              0\n",
       "RevLineCr               0\n",
       "LowDoc                  0\n",
       "DisbursementDate     2141\n",
       "DisbursementGross       0\n",
       "BalanceGross            0\n",
       "MIS_Status              0\n",
       "ChgOffPrinGr            0\n",
       "GrAppv                  0\n",
       "SBA_Appv                0\n",
       "Industry                0\n",
       "dtype: int64"
      ]
     },
     "execution_count": 27,
     "metadata": {},
     "output_type": "execute_result"
    }
   ],
   "source": [
    "# Dealing with NAs in 'LowDoc' and 'RevLineCr'\n",
    "SBAloan.dropna(subset=['LowDoc'],inplace=True)\n",
    "SBAloan.dropna(subset=['RevLineCr'],inplace=True)\n",
    "SBAloan.isnull().sum()"
   ]
  },
  {
   "cell_type": "code",
   "execution_count": null,
   "id": "230b28c5-90e8-41f1-86f8-7725a7daa85f",
   "metadata": {},
   "outputs": [],
   "source": [
    "# Dealing with NAs in 'DisbursementDate'"
   ]
  }
 ],
 "metadata": {
  "kernelspec": {
   "display_name": "Python 3 (ipykernel)",
   "language": "python",
   "name": "python3"
  },
  "language_info": {
   "codemirror_mode": {
    "name": "ipython",
    "version": 3
   },
   "file_extension": ".py",
   "mimetype": "text/x-python",
   "name": "python",
   "nbconvert_exporter": "python",
   "pygments_lexer": "ipython3",
   "version": "3.11.4"
  }
 },
 "nbformat": 4,
 "nbformat_minor": 5
}
